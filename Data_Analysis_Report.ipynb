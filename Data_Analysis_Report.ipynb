{
 "cells": [
  {
   "cell_type": "markdown",
   "metadata": {},
   "source": [
    "<h2>IBM Data Science Capstone Project - Predict Severity of Traffic Collisions</h2>"
   ]
  },
  {
   "cell_type": "markdown",
   "metadata": {},
   "source": [
    "<h3>Introduction</h3>\n"
   ]
  },
  {
   "cell_type": "markdown",
   "metadata": {},
   "source": [
    "This is a case study which is to predict the severity of a traffic collision in Seattle City. Many of us might have experienced terrible traffic jam due to the unpredictable road accidents. In order to improve travel experience of road users, Seattle Department of Transportation (SDOT) hopes to create an application that can help to predict severity of a road accident based on historical datasets. With this, people can drive more carefully or even change their travel if possible so."
   ]
  },
  {
   "cell_type": "markdown",
   "metadata": {},
   "source": [
    "<h3>Data</h3>"
   ]
  },
  {
   "cell_type": "markdown",
   "metadata": {},
   "source": [
    "For this case study, we use historical dataset that contains collections of collision records provided by Seattle Police Department (SPD). This includes all types of collisions that happened from 2004 to present. The label for the data set is severity, which describes the fatality of an accident. It has only two category of severity which is 1 - (Property Damage Only Collision) and 2 (Injury Collision). This means the model we are building will be trained and tested based on the dataset. As the dataset has unbalanced labels, we should balance the data in order to create a more accurate Machine Learning model. The following is a list of attributes or features that will be used for the analysis.\n",
    " \n",
    "<ol>\n",
    "<li>Location</li>\n",
    "<li>Weather condition</li>\n",
    "<li>Car Speeding</li>\n",
    "    <li>Light condition</li>\n",
    "        <li>Road condition</li>\n",
    "        <li>Junction Type</li>\n",
    "    <li>Number of people involved/li>\n",
    "    <li>Number of vehicles involved in</li>\n",
    "    \n",
    "</ol>\n",
    "\n",
    "\n",
    "\n",
    "\n",
    "\n",
    "\n",
    "\n",
    "\n"
   ]
  },
  {
   "cell_type": "code",
   "execution_count": null,
   "metadata": {},
   "outputs": [],
   "source": []
  }
 ],
 "metadata": {
  "kernelspec": {
   "display_name": "Python 3",
   "language": "python",
   "name": "python3"
  },
  "language_info": {
   "codemirror_mode": {
    "name": "ipython",
    "version": 3
   },
   "file_extension": ".py",
   "mimetype": "text/x-python",
   "name": "python",
   "nbconvert_exporter": "python",
   "pygments_lexer": "ipython3",
   "version": "3.8.3"
  }
 },
 "nbformat": 4,
 "nbformat_minor": 4
}
